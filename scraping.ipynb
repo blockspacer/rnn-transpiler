{
 "cells": [
  {
   "cell_type": "code",
   "execution_count": 17,
   "metadata": {},
   "outputs": [],
   "source": [
    "import numpy as np\n",
    "import pandas as pd\n",
    "import matplotlib.pyplot as plt\n",
    "from selenium import webdriver\n",
    "from selenium.webdriver.common.keys import Keys\n",
    "from selenium.webdriver.chrome.options import Options\n",
    "import time\n",
    "import os\n",
    "\n",
    "python_options = {'suffix':'.py',\n",
    "                  'search_term' : 'python3',\n",
    "                    'path': '/Volumes/Transcend/programs/prog1/python/'}\n",
    "cpp_options = { 'suffix':'.cpp',\n",
    "               'search_term' : 'cpp',\n",
    "                  'path': '/Volumes/Transcend/programs/prog1/cpp/'}\n",
    "\n",
    "lang_options = python_options"
   ]
  },
  {
   "cell_type": "code",
   "execution_count": 18,
   "metadata": {},
   "outputs": [],
   "source": [
    "chromedriver = \"/Applications/chromedriver\" # path to the chromedriver executable\n",
    "os.environ[\"webdriver.chrome.driver\"] = chromedriver\n",
    "\n",
    "driver = webdriver.Chrome(chromedriver)\n",
    "driver.get(\"https://www.hackerrank.com\")\n",
    "\n",
    "options = Options()\n",
    "options.add_experimental_option(\"prefs\", {\n",
    "  \"download.default_directory\": r\"C:\\Users\\cmiless\\Downloads\",\n",
    "  \"download.prompt_for_download\": False,\n",
    "  \"download.directory_upgrade\": True,\n",
    "  \"safebrowsing.enabled\": True\n",
    "})\n",
    "\n"
   ]
  },
  {
   "cell_type": "code",
   "execution_count": 19,
   "metadata": {},
   "outputs": [],
   "source": [
    "login_button = driver.find_elements_by_link_text('Login')[0]\n",
    "login_button.click()\n",
    "login_button2 = driver.find_elements_by_link_text('Login')[0]\n",
    "login_button2.click()"
   ]
  },
  {
   "cell_type": "code",
   "execution_count": 20,
   "metadata": {},
   "outputs": [],
   "source": [
    "%reload_ext dotenv\n",
    "%dotenv\n",
    "\n",
    "EMAIL = os.environ.get('USERNAME')\n",
    "PASSWORD = os.environ.get('PASSWORD')"
   ]
  },
  {
   "cell_type": "code",
   "execution_count": 21,
   "metadata": {},
   "outputs": [],
   "source": [
    "username_field = driver.find_element_by_id('input-1')\n",
    "username_field.send_keys(EMAIL) "
   ]
  },
  {
   "cell_type": "code",
   "execution_count": 22,
   "metadata": {},
   "outputs": [],
   "source": [
    "pw_field = driver.find_element_by_id('input-2')\n",
    "pw_field.send_keys(PASSWORD) "
   ]
  },
  {
   "cell_type": "code",
   "execution_count": 23,
   "metadata": {},
   "outputs": [],
   "source": [
    "\n",
    "time.sleep(5)\n",
    "driver.find_elements_by_tag_name('button')[0].click()\n",
    "time.sleep(5)\n",
    "driver.find_elements_by_tag_name('button')[0].click()"
   ]
  },
  {
   "cell_type": "code",
   "execution_count": 24,
   "metadata": {},
   "outputs": [],
   "source": [
    "time.sleep(5)\n",
    "\n",
    "driver.find_element_by_link_text('Algorithms').click()"
   ]
  },
  {
   "cell_type": "code",
   "execution_count": 25,
   "metadata": {},
   "outputs": [],
   "source": [
    "time.sleep(1)\n",
    "driver.find_elements_by_tag_name('button')[1].click()"
   ]
  },
  {
   "cell_type": "code",
   "execution_count": 26,
   "metadata": {},
   "outputs": [],
   "source": [
    "time.sleep(1)\n",
    "driver.find_element_by_link_text('Leaderboard').click()"
   ]
  },
  {
   "cell_type": "code",
   "execution_count": 27,
   "metadata": {},
   "outputs": [
    {
     "name": "stdout",
     "output_type": "stream",
     "text": [
      "solutions already revealed\n"
     ]
    }
   ],
   "source": [
    "reveal_button = driver.find_elements_by_tag_name('button')\n",
    "try:\n",
    "    reveal_button[0].click()\n",
    "    driver.find_element_by_class_name('hr_primary-btn').click()\n",
    "except:\n",
    "    print('solutions already revealed')"
   ]
  },
  {
   "cell_type": "code",
   "execution_count": 28,
   "metadata": {},
   "outputs": [],
   "source": [
    "time.sleep(1)\n",
    "language_field = driver.find_elements_by_class_name('ac-input')[1]\n",
    "time.sleep(1)\n",
    "language_field.send_keys(lang_options['search_term'])"
   ]
  },
  {
   "cell_type": "code",
   "execution_count": 29,
   "metadata": {},
   "outputs": [],
   "source": [
    "time.sleep(5)\n",
    "language_field.send_keys(Keys.ENTER)\n",
    "time.sleep(5)"
   ]
  },
  {
   "cell_type": "code",
   "execution_count": 31,
   "metadata": {},
   "outputs": [],
   "source": [
    "file_count = 1660\n",
    "for i in range(18):\n",
    "    for j in range(20):\n",
    "        solution_links = driver.find_elements_by_link_text('View solution')\n",
    "        lin = solution_links[j]\n",
    "\n",
    "        url = lin.get_attribute('href')\n",
    "\n",
    "        driver.get(url)\n",
    "\n",
    "        b = driver.find_element_by_tag_name('body')\n",
    "\n",
    "        b.text\n",
    "\n",
    "        with open(f\"{lang_options['path']}prog_{file_count}{lang_options['suffix']}\", \"w\") as text_file:\n",
    "            text_file.write(b.text)\n",
    "\n",
    "        driver.back()\n",
    "        file_count+=1\n",
    "        \n",
    "        time.sleep(0.25*np.random.random())\n",
    "        \n",
    "    time.sleep(3+np.random.random())    \n",
    "    driver.find_element_by_class_name('last-page-link').click()"
   ]
  },
  {
   "cell_type": "code",
   "execution_count": null,
   "metadata": {},
   "outputs": [],
   "source": []
  }
 ],
 "metadata": {
  "kernelspec": {
   "display_name": "Python 3",
   "language": "python",
   "name": "python3"
  },
  "language_info": {
   "codemirror_mode": {
    "name": "ipython",
    "version": 3
   },
   "file_extension": ".py",
   "mimetype": "text/x-python",
   "name": "python",
   "nbconvert_exporter": "python",
   "pygments_lexer": "ipython3",
   "version": "3.6.8"
  },
  "toc": {
   "base_numbering": 1,
   "nav_menu": {},
   "number_sections": true,
   "sideBar": true,
   "skip_h1_title": false,
   "title_cell": "Table of Contents",
   "title_sidebar": "Contents",
   "toc_cell": false,
   "toc_position": {},
   "toc_section_display": true,
   "toc_window_display": false
  },
  "varInspector": {
   "cols": {
    "lenName": 16,
    "lenType": 16,
    "lenVar": 40
   },
   "kernels_config": {
    "python": {
     "delete_cmd_postfix": "",
     "delete_cmd_prefix": "del ",
     "library": "var_list.py",
     "varRefreshCmd": "print(var_dic_list())"
    },
    "r": {
     "delete_cmd_postfix": ") ",
     "delete_cmd_prefix": "rm(",
     "library": "var_list.r",
     "varRefreshCmd": "cat(var_dic_list()) "
    }
   },
   "types_to_exclude": [
    "module",
    "function",
    "builtin_function_or_method",
    "instance",
    "_Feature"
   ],
   "window_display": false
  }
 },
 "nbformat": 4,
 "nbformat_minor": 2
}
