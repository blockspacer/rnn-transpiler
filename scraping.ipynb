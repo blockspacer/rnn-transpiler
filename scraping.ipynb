{
 "cells": [
  {
   "cell_type": "code",
   "execution_count": 1,
   "metadata": {},
   "outputs": [],
   "source": [
    "import requests\n",
    "import numpy as np\n",
    "import pandas as pd\n",
    "import matplotlib.pyplot as plt\n",
    "from selenium import webdriver\n",
    "from selenium.webdriver.common.keys import Keys\n",
    "from selenium.webdriver.chrome.options import Options\n",
    "import re\n",
    "import time\n",
    "import os\n",
    "from pymongo import MongoClient\n",
    "import pprint\n",
    "from tqdm import tqdm_notebook\n",
    "\n",
    "\n",
    "%reload_ext dotenv\n",
    "%dotenv"
   ]
  },
  {
   "cell_type": "code",
   "execution_count": 27,
   "metadata": {},
   "outputs": [],
   "source": [
    "EMAIL = os.environ.get('USERNAME')\n",
    "PASSWORD = os.environ.get('PASSWORD')\n",
    "WEBSITE = os.environ.get('WEBSITE')\n",
    "\n",
    "pp = pprint.PrettyPrinter(indent=4)\n",
    "\n",
    "\n",
    "chromedriver = \"/Applications/chromedriver\" # path to the chromedriver executable\n",
    "os.environ[\"webdriver.chrome.driver\"] = chromedriver\n",
    "\n",
    "options = Options()\n",
    "\n",
    "# Headless option\n",
    "options.add_argument(\"--headless\")\n",
    "options.add_argument(\"--window-size=1920x1080\")\n",
    "\n",
    "# Connect to database\n",
    "client = MongoClient()\n",
    "db = client.py2cpp\n",
    "\n",
    "# Language options\n",
    "python_options = {\n",
    "    'name' : 'Python 3',\n",
    "    'suffix': '.py',\n",
    "    'search_term': 'python3',\n",
    "    'db_collection': db.python\n",
    "}\n",
    "cpp_options = {\n",
    "    'name' : 'C++',\n",
    "    'suffix': '.cpp',\n",
    "    'search_term': 'cpp',\n",
    "    'db_collection': db.cpp\n",
    "}\n",
    "\n",
    "# Helper function for sleeping\n",
    "def sleeper(lower,higher):\n",
    "    delay = lower + (higher-lower)*np.random.random()\n",
    "    time.sleep(delay)\n",
    "\n",
    "num_problems = 439"
   ]
  },
  {
   "cell_type": "code",
   "execution_count": 28,
   "metadata": {},
   "outputs": [],
   "source": [
    "# Open up website\n",
    "driver = webdriver.Chrome(chromedriver,options=options)\n",
    "driver.get(WEBSITE)\n",
    "sleeper(5,10)"
   ]
  },
  {
   "cell_type": "code",
   "execution_count": 29,
   "metadata": {},
   "outputs": [],
   "source": [
    "# Navigate to Algorithms page\n",
    "# login_button = driver.find_elements_by_link_text('Login')[0]\n",
    "# login_button.click()\n",
    "# sleeper(5,10)\n",
    "\n",
    "# login_button2 = driver.find_elements_by_link_text('Login')[0]\n",
    "# login_button2.click()\n",
    "# sleeper(5,10)\n",
    "\n",
    "username_field = driver.find_element_by_id('input-1')\n",
    "username_field.send_keys(EMAIL) \n",
    "sleeper(5,10)"
   ]
  },
  {
   "cell_type": "code",
   "execution_count": 30,
   "metadata": {},
   "outputs": [],
   "source": [
    "pw_field = driver.find_element_by_id('input-2')\n",
    "pw_field.send_keys(PASSWORD) \n",
    "sleeper(5,10)\n"
   ]
  },
  {
   "cell_type": "code",
   "execution_count": 31,
   "metadata": {},
   "outputs": [],
   "source": [
    "driver.find_elements_by_tag_name('button')[0].click()\n",
    "sleeper(5,10)"
   ]
  },
  {
   "cell_type": "code",
   "execution_count": 32,
   "metadata": {},
   "outputs": [],
   "source": [
    "driver.find_elements_by_tag_name('button')[0].click()\n",
    "sleeper(5,10)"
   ]
  },
  {
   "cell_type": "code",
   "execution_count": 33,
   "metadata": {},
   "outputs": [],
   "source": [
    "driver.find_element_by_link_text('Algorithms').click()\n",
    "sleeper(5,10)"
   ]
  },
  {
   "cell_type": "code",
   "execution_count": 34,
   "metadata": {
    "code_folding": [],
    "scrolled": true
   },
   "outputs": [],
   "source": [
    "def go_to_leaderboard(req_challenge_id):\n",
    "    assert req_challenge_id < num_problems\n",
    "    driver.get('https://www.hackerrank.com/domains/algorithms')\n",
    "    sleeper(5,10)\n",
    "\n",
    "    # Get scroll height\n",
    "    last_height = driver.execute_script(\"return document.body.scrollHeight\")\n",
    "\n",
    "    while True:\n",
    "        # Scroll down to bottom\n",
    "        driver.execute_script(\"window.scrollTo(0, document.body.scrollHeight);\")\n",
    "\n",
    "        # Wait to load page\n",
    "        sleeper(3,4)\n",
    "\n",
    "        # Break if number of challenges exceeds req_challenge_id\n",
    "        challenge_list = driver.find_element_by_class_name('challenges-list')\n",
    "        clist_items = challenge_list.find_elements_by_class_name('challenge-list-item')\n",
    "        num_challenges_on_page = len(clist_items)\n",
    "        if num_challenges_on_page > req_challenge_id:\n",
    "            break\n",
    "\n",
    "        sleeper(1,2)\n",
    "        print(num_challenges_on_page)\n",
    "    # Get individual challenge data and click \n",
    "    sleeper(5,10)\n",
    "    \n",
    "   \n",
    "    \n",
    "    challenge_list = driver.find_element_by_class_name('challenges-list')\n",
    "\n",
    "    challenge_item = challenge_list.find_elements_by_class_name('challenge-list-item')[req_challenge_id]\n",
    "\n",
    "    challenge_title = challenge_item.find_element_by_class_name('challengecard-title').text.split('\\n')[0]\n",
    "    challenge_difficulty = challenge_item.find_element_by_class_name('difficulty').text\n",
    "    max_score_str = challenge_item.find_element_by_class_name('max-score').text\n",
    "    max_score= float(re.findall('\\d+', max_score_str)[0])\n",
    "    success_rate_str = challenge_item.find_element_by_class_name('success-ratio').text\n",
    "    success_rate = 0.01*float(re.findall('\\\\d+(?:\\\\.\\\\d+)?', success_rate_str)[0])\n",
    "    print(f'challenge_title: {challenge_title}')\n",
    "    print(f'challenge_difficulty: {challenge_difficulty}')\n",
    "    print(f'max_score: {max_score}')\n",
    "    print(f'success_rate: {success_rate}')\n",
    "\n",
    "    challenge_item.click()\n",
    "    sleeper(5,10)\n",
    "\n",
    "    # Go to Leaderboard\n",
    "    driver.find_element_by_link_text('Leaderboard').click()\n",
    "    sleeper(5,10)\n",
    "    reveal_button = driver.find_elements_by_tag_name('button')\n",
    "    try:\n",
    "        reveal_button[0].click()\n",
    "        sleeper(5,10)\n",
    "        driver.find_element_by_class_name('hr_primary-btn').click()\n",
    "    except:\n",
    "        print('solutions already revealed')\n",
    "\n",
    "    sleeper(5,10) \n",
    "    return challenge_title,challenge_difficulty,max_score,success_rate"
   ]
  },
  {
   "cell_type": "code",
   "execution_count": 35,
   "metadata": {},
   "outputs": [],
   "source": [
    "# Filter by language (used soon in two cells)\n",
    "def filter_by_language(lang_options):\n",
    "    sleeper(1,3)\n",
    "    language_field = driver.find_elements_by_class_name('ac-input')[1]\n",
    "    sleeper(1,3)\n",
    "    for _ in range(len(language_field.get_attribute('value'))):\n",
    "        language_field.send_keys(Keys.BACK_SPACE)\n",
    "        sleeper(0.1,0.5)\n",
    "\n",
    "    sleeper(1,3)\n",
    "    language_field.send_keys(lang_options['search_term'])\n",
    "\n",
    "    sleeper(1,3)\n",
    "    language_field.send_keys(Keys.ENTER)\n",
    "    sleeper(1,3)\n",
    "    "
   ]
  },
  {
   "cell_type": "code",
   "execution_count": 36,
   "metadata": {},
   "outputs": [
    {
     "name": "stdout",
     "output_type": "stream",
     "text": [
      "challenge_title:Simple Array Sum\n",
      "challenge_difficulty:Easy\n",
      "max_score:10.0\n",
      "success_rate:0.9454000000000001\n",
      "solutions already revealed\n",
      "Language: Python 3 \n",
      "\n"
     ]
    },
    {
     "data": {
      "application/vnd.jupyter.widget-view+json": {
       "model_id": "66100ef63a1341478d387b254e5313ec",
       "version_major": 2,
       "version_minor": 0
      },
      "text/plain": [
       "HBox(children=(IntProgress(value=0, max=1), HTML(value='')))"
      ]
     },
     "metadata": {},
     "output_type": "display_data"
    },
    {
     "name": "stdout",
     "output_type": "stream",
     "text": [
      "\n",
      "Language: C++ \n",
      "\n"
     ]
    },
    {
     "data": {
      "application/vnd.jupyter.widget-view+json": {
       "model_id": "cdf5e669ad3a4cad8d9b15adf34fd8c1",
       "version_major": 2,
       "version_minor": 0
      },
      "text/plain": [
       "HBox(children=(IntProgress(value=0, max=1), HTML(value='')))"
      ]
     },
     "metadata": {},
     "output_type": "display_data"
    },
    {
     "name": "stdout",
     "output_type": "stream",
     "text": [
      "\n",
      "challenge_title:Compare the Triplets\n",
      "challenge_difficulty:Easy\n",
      "max_score:10.0\n",
      "success_rate:0.9400000000000001\n",
      "solutions already revealed\n",
      "Language: Python 3 \n",
      "\n"
     ]
    },
    {
     "data": {
      "application/vnd.jupyter.widget-view+json": {
       "model_id": "06dca6c5196c46b48c5db75ef6b2825f",
       "version_major": 2,
       "version_minor": 0
      },
      "text/plain": [
       "HBox(children=(IntProgress(value=0, max=1), HTML(value='')))"
      ]
     },
     "metadata": {},
     "output_type": "display_data"
    },
    {
     "name": "stdout",
     "output_type": "stream",
     "text": [
      "\n",
      "Language: C++ \n",
      "\n"
     ]
    },
    {
     "data": {
      "application/vnd.jupyter.widget-view+json": {
       "model_id": "cac97c7255e14182b5e645205468c2ba",
       "version_major": 2,
       "version_minor": 0
      },
      "text/plain": [
       "HBox(children=(IntProgress(value=0, max=1), HTML(value='')))"
      ]
     },
     "metadata": {},
     "output_type": "display_data"
    },
    {
     "name": "stdout",
     "output_type": "stream",
     "text": [
      "\n",
      "challenge_title:A Very Big Sum\n",
      "challenge_difficulty:Easy\n",
      "max_score:10.0\n",
      "success_rate:0.9861\n",
      "solutions already revealed\n",
      "Language: Python 3 \n",
      "\n"
     ]
    },
    {
     "data": {
      "application/vnd.jupyter.widget-view+json": {
       "model_id": "1acad08376a34817881d3f42b3ea4558",
       "version_major": 2,
       "version_minor": 0
      },
      "text/plain": [
       "HBox(children=(IntProgress(value=0, max=1), HTML(value='')))"
      ]
     },
     "metadata": {},
     "output_type": "display_data"
    },
    {
     "name": "stdout",
     "output_type": "stream",
     "text": [
      "\n",
      "Language: C++ \n",
      "\n"
     ]
    },
    {
     "ename": "KeyboardInterrupt",
     "evalue": "",
     "output_type": "error",
     "traceback": [
      "\u001b[0;31m---------------------------------------------------------------------------\u001b[0m",
      "\u001b[0;31mKeyboardInterrupt\u001b[0m                         Traceback (most recent call last)",
      "\u001b[0;32m<ipython-input-36-ca35d48b1573>\u001b[0m in \u001b[0;36m<module>\u001b[0;34m()\u001b[0m\n\u001b[1;32m     10\u001b[0m     \u001b[0;32mfor\u001b[0m \u001b[0mlang_options\u001b[0m \u001b[0;32min\u001b[0m \u001b[0;34m[\u001b[0m\u001b[0mpython_options\u001b[0m\u001b[0;34m,\u001b[0m \u001b[0mcpp_options\u001b[0m\u001b[0;34m]\u001b[0m\u001b[0;34m:\u001b[0m\u001b[0;34m\u001b[0m\u001b[0;34m\u001b[0m\u001b[0m\n\u001b[1;32m     11\u001b[0m         \u001b[0mprint\u001b[0m\u001b[0;34m(\u001b[0m\u001b[0;34mf'Language: {lang_options[\"name\"]} \\n'\u001b[0m\u001b[0;34m)\u001b[0m\u001b[0;34m\u001b[0m\u001b[0;34m\u001b[0m\u001b[0m\n\u001b[0;32m---> 12\u001b[0;31m         \u001b[0mfilter_by_language\u001b[0m\u001b[0;34m(\u001b[0m\u001b[0mlang_options\u001b[0m\u001b[0;34m)\u001b[0m\u001b[0;34m\u001b[0m\u001b[0;34m\u001b[0m\u001b[0m\n\u001b[0m\u001b[1;32m     13\u001b[0m \u001b[0;34m\u001b[0m\u001b[0m\n\u001b[1;32m     14\u001b[0m         \u001b[0;31m# Loops through pages\u001b[0m\u001b[0;34m\u001b[0m\u001b[0;34m\u001b[0m\u001b[0;34m\u001b[0m\u001b[0m\n",
      "\u001b[0;32m<ipython-input-35-ac028a3a6f38>\u001b[0m in \u001b[0;36mfilter_by_language\u001b[0;34m(lang_options)\u001b[0m\n\u001b[1;32m      3\u001b[0m     \u001b[0msleeper\u001b[0m\u001b[0;34m(\u001b[0m\u001b[0;36m1\u001b[0m\u001b[0;34m,\u001b[0m\u001b[0;36m3\u001b[0m\u001b[0;34m)\u001b[0m\u001b[0;34m\u001b[0m\u001b[0;34m\u001b[0m\u001b[0m\n\u001b[1;32m      4\u001b[0m     \u001b[0mlanguage_field\u001b[0m \u001b[0;34m=\u001b[0m \u001b[0mdriver\u001b[0m\u001b[0;34m.\u001b[0m\u001b[0mfind_elements_by_class_name\u001b[0m\u001b[0;34m(\u001b[0m\u001b[0;34m'ac-input'\u001b[0m\u001b[0;34m)\u001b[0m\u001b[0;34m[\u001b[0m\u001b[0;36m1\u001b[0m\u001b[0;34m]\u001b[0m\u001b[0;34m\u001b[0m\u001b[0;34m\u001b[0m\u001b[0m\n\u001b[0;32m----> 5\u001b[0;31m     \u001b[0msleeper\u001b[0m\u001b[0;34m(\u001b[0m\u001b[0;36m1\u001b[0m\u001b[0;34m,\u001b[0m\u001b[0;36m3\u001b[0m\u001b[0;34m)\u001b[0m\u001b[0;34m\u001b[0m\u001b[0;34m\u001b[0m\u001b[0m\n\u001b[0m\u001b[1;32m      6\u001b[0m     \u001b[0;32mfor\u001b[0m \u001b[0m_\u001b[0m \u001b[0;32min\u001b[0m \u001b[0mrange\u001b[0m\u001b[0;34m(\u001b[0m\u001b[0mlen\u001b[0m\u001b[0;34m(\u001b[0m\u001b[0mlanguage_field\u001b[0m\u001b[0;34m.\u001b[0m\u001b[0mget_attribute\u001b[0m\u001b[0;34m(\u001b[0m\u001b[0;34m'value'\u001b[0m\u001b[0;34m)\u001b[0m\u001b[0;34m)\u001b[0m\u001b[0;34m)\u001b[0m\u001b[0;34m:\u001b[0m\u001b[0;34m\u001b[0m\u001b[0;34m\u001b[0m\u001b[0m\n\u001b[1;32m      7\u001b[0m         \u001b[0mlanguage_field\u001b[0m\u001b[0;34m.\u001b[0m\u001b[0msend_keys\u001b[0m\u001b[0;34m(\u001b[0m\u001b[0mKeys\u001b[0m\u001b[0;34m.\u001b[0m\u001b[0mBACK_SPACE\u001b[0m\u001b[0;34m)\u001b[0m\u001b[0;34m\u001b[0m\u001b[0;34m\u001b[0m\u001b[0m\n",
      "\u001b[0;32m<ipython-input-27-bbaeca360a90>\u001b[0m in \u001b[0;36msleeper\u001b[0;34m(lower, higher)\u001b[0m\n\u001b[1;32m     36\u001b[0m \u001b[0;32mdef\u001b[0m \u001b[0msleeper\u001b[0m\u001b[0;34m(\u001b[0m\u001b[0mlower\u001b[0m\u001b[0;34m,\u001b[0m\u001b[0mhigher\u001b[0m\u001b[0;34m)\u001b[0m\u001b[0;34m:\u001b[0m\u001b[0;34m\u001b[0m\u001b[0;34m\u001b[0m\u001b[0m\n\u001b[1;32m     37\u001b[0m     \u001b[0mdelay\u001b[0m \u001b[0;34m=\u001b[0m \u001b[0mlower\u001b[0m \u001b[0;34m+\u001b[0m \u001b[0;34m(\u001b[0m\u001b[0mhigher\u001b[0m\u001b[0;34m-\u001b[0m\u001b[0mlower\u001b[0m\u001b[0;34m)\u001b[0m\u001b[0;34m*\u001b[0m\u001b[0mnp\u001b[0m\u001b[0;34m.\u001b[0m\u001b[0mrandom\u001b[0m\u001b[0;34m.\u001b[0m\u001b[0mrandom\u001b[0m\u001b[0;34m(\u001b[0m\u001b[0;34m)\u001b[0m\u001b[0;34m\u001b[0m\u001b[0;34m\u001b[0m\u001b[0m\n\u001b[0;32m---> 38\u001b[0;31m     \u001b[0mtime\u001b[0m\u001b[0;34m.\u001b[0m\u001b[0msleep\u001b[0m\u001b[0;34m(\u001b[0m\u001b[0mdelay\u001b[0m\u001b[0;34m)\u001b[0m\u001b[0;34m\u001b[0m\u001b[0;34m\u001b[0m\u001b[0m\n\u001b[0m\u001b[1;32m     39\u001b[0m \u001b[0;34m\u001b[0m\u001b[0m\n\u001b[1;32m     40\u001b[0m \u001b[0mnum_problems\u001b[0m \u001b[0;34m=\u001b[0m \u001b[0;36m439\u001b[0m\u001b[0;34m\u001b[0m\u001b[0;34m\u001b[0m\u001b[0m\n",
      "\u001b[0;31mKeyboardInterrupt\u001b[0m: "
     ]
    }
   ],
   "source": [
    "# Collect solutions\n",
    "max_page_number = 1\n",
    "solutions_per_page = 1 # Pick number less than 20. 20 is the number per page.\n",
    "\n",
    "#Loop over problems\n",
    "for problem_id in range(num_problems):\n",
    "    c_title,c_difficulty,c_max_score,c_success_rate=go_to_leaderboard(problem_id)\n",
    "\n",
    "    # Loop over languages\n",
    "    for lang_options in [python_options, cpp_options]:\n",
    "        print(f'Language: {lang_options[\"name\"]} \\n')\n",
    "        filter_by_language(lang_options)\n",
    "\n",
    "        # Loops through pages\n",
    "        final_page_num = int(driver.find_element_by_class_name('last-page').text)\n",
    "        last_page = min(max_page_number,final_page_num) \n",
    "        for i in tqdm_notebook(range(last_page)):\n",
    "\n",
    "            # Loops through solutions on page\n",
    "            for j in range(solutions_per_page):\n",
    "                \n",
    "                # Get meta data on solution such as rank, language, and score\n",
    "                row = driver.find_elements_by_class_name('table-row')[j]\n",
    "                sleeper(0,1)\n",
    "                elementList = row.find_elements_by_class_name('table-row-column')\n",
    "                text_info = [ elem.text for elem in elementList ]\n",
    "                rank = int(text_info[1])\n",
    "                language = text_info[3]\n",
    "                score = float(text_info[4])\n",
    "\n",
    "                # Navigate to solution page and get code as a string\n",
    "                solution_links = driver.find_elements_by_link_text('View solution')\n",
    "                lin = solution_links[j]\n",
    "                url = lin.get_attribute('href')\n",
    "                driver.get(url)\n",
    "\n",
    "                b = driver.find_element_by_tag_name('body')\n",
    "                code = b.text\n",
    "\n",
    "                # Save to mongodb server\n",
    "                doc = {\n",
    "                    'challenge_title': c_title,\n",
    "                    'challenge_difficulty': c_difficulty,\n",
    "                    'max_score': c_max_score,\n",
    "                    'success_rate': c_success_rate,\n",
    "                    'rank' : rank,\n",
    "                    'language' : language,\n",
    "                    'score': score,\n",
    "                    'code' : code\n",
    "                }\n",
    "    #             pp.pprint(doc)\n",
    "                lang_options['db_collection'].insert_one(doc)\n",
    "                sleeper(1,2)\n",
    "                # Navigate back to solutions list\n",
    "                driver.back()\n",
    "\n",
    "                sleeper(1,2)\n",
    "\n",
    "\n",
    "            # Navigate to next page if it exists\n",
    "            sleeper(2,4)   \n",
    "            next_page_elem = driver.find_element_by_class_name('next-page')\n",
    "            if 'disabled' in next_page_elem.get_attribute('class'):\n",
    "                break\n",
    "            else:\n",
    "                next_page_elem.click()\n",
    "            sleeper(3,6) \n"
   ]
  },
  {
   "cell_type": "code",
   "execution_count": 25,
   "metadata": {
    "scrolled": true
   },
   "outputs": [
    {
     "data": {
      "text/plain": [
       "[{'_id': ObjectId('5c721c87efd8ed5633f1cd65'),\n",
       "  'challenge_title': 'Utopian Tree',\n",
       "  'challenge_difficulty': 'Easy',\n",
       "  'max_score': 20.0,\n",
       "  'success_rate': 0.9715,\n",
       "  'rank': 1,\n",
       "  'language': 'Python 2',\n",
       "  'score': 10.0,\n",
       "  'code': 'n = input()\\narr = map(int,raw_input().split())\\nprint sum(arr)'},\n",
       " {'_id': ObjectId('5c721c8cefd8ed5633f1cd66'),\n",
       "  'challenge_title': 'Utopian Tree',\n",
       "  'challenge_difficulty': 'Easy',\n",
       "  'max_score': 20.0,\n",
       "  'success_rate': 0.9715,\n",
       "  'rank': 1,\n",
       "  'language': 'Python 3',\n",
       "  'score': 10.0,\n",
       "  'code': 'n = int(input())\\nnums = list(map(int, input().split()))\\nsum = 0\\nfor num in nums:\\n    sum += num\\nprint(sum)'},\n",
       " {'_id': ObjectId('5c721c93efd8ed5633f1cd67'),\n",
       "  'challenge_title': 'Utopian Tree',\n",
       "  'challenge_difficulty': 'Easy',\n",
       "  'max_score': 20.0,\n",
       "  'success_rate': 0.9715,\n",
       "  'rank': 1,\n",
       "  'language': 'C++',\n",
       "  'score': 10.0,\n",
       "  'code': '#include <cmath>\\n#include <cstdio>\\n#include <vector>\\n#include <iostream>\\n#include <algorithm>\\nusing namespace std;\\n\\n\\nint main() {\\n    \\n    unsigned long long int N, Sum = 0, i, Num;\\n    \\n    cin>>N;\\n    \\n    for (i = 1 ; i <= N ; i++)\\n        {\\n        cin>> Num;\\n        Sum += Num;\\n    }\\n    \\n    cout<<Sum<<endl;\\n       \\n    \\n    /* Enter your code here. Read input from STDIN. Print output to STDOUT */   \\n    return 0;\\n}'},\n",
       " {'_id': ObjectId('5c721c97efd8ed5633f1cd68'),\n",
       "  'challenge_title': 'Utopian Tree',\n",
       "  'challenge_difficulty': 'Easy',\n",
       "  'max_score': 20.0,\n",
       "  'success_rate': 0.9715,\n",
       "  'rank': 1,\n",
       "  'language': 'C++',\n",
       "  'score': 10.0,\n",
       "  'code': '#include <cmath>\\n#include <cstdio>\\n#include <vector>\\n#include <iostream>\\n#include <algorithm>\\nusing namespace std;\\n\\n\\nint main() {\\n    int n,i,a[1000];\\n    long sum=0;\\n    scanf(\"%d\",&n);\\n    for(i=0;i<n;i++)\\n        {\\n        scanf(\"%d\",&a[i]);\\n        sum+=a[i];\\n    }\\n    printf(\"%ld\\\\n\",sum);\\n    return 0;\\n}'},\n",
       " {'_id': ObjectId('5c721c9defd8ed5633f1cd69'),\n",
       "  'challenge_title': 'Utopian Tree',\n",
       "  'challenge_difficulty': 'Easy',\n",
       "  'max_score': 20.0,\n",
       "  'success_rate': 0.9715,\n",
       "  'rank': 1,\n",
       "  'language': 'C++',\n",
       "  'score': 10.0,\n",
       "  'code': '#include <cmath>\\n#include <cstdio>\\n#include <vector>\\n#include <iostream>\\n#include <algorithm>\\nusing namespace std;\\n\\n\\nint main() {\\n    int n;\\n    cin >> n;\\n    long long sum = 0, x;\\n    \\n    while (n--) {\\n        cin >> x;\\n        sum += x;\\n    }\\n    \\n    cout << sum << endl;\\n    \\n    return 0;\\n}'},\n",
       " {'_id': ObjectId('5c722041efd8edc4bee8c952'),\n",
       "  'challenge_title': 'Simple Array Sum',\n",
       "  'challenge_difficulty': 'Easy',\n",
       "  'max_score': 10.0,\n",
       "  'success_rate': 0.9454000000000001,\n",
       "  'rank': 1,\n",
       "  'language': 'Python 3',\n",
       "  'score': 10.0,\n",
       "  'code': 'n = int(input())\\nnums = list(map(int, input().split()))\\nsum = 0\\nfor num in nums:\\n    sum += num\\nprint(sum)'},\n",
       " {'_id': ObjectId('5c722048efd8edc4bee8c953'),\n",
       "  'challenge_title': 'Simple Array Sum',\n",
       "  'challenge_difficulty': 'Easy',\n",
       "  'max_score': 10.0,\n",
       "  'success_rate': 0.9454000000000001,\n",
       "  'rank': 1,\n",
       "  'language': 'Python 3',\n",
       "  'score': 10.0,\n",
       "  'code': \"n = input()\\nl = list(map(int, input().split(' ')))\\nprint(sum(l))\"},\n",
       " {'_id': ObjectId('5c72204defd8edc4bee8c954'),\n",
       "  'challenge_title': 'Simple Array Sum',\n",
       "  'challenge_difficulty': 'Easy',\n",
       "  'max_score': 10.0,\n",
       "  'success_rate': 0.9454000000000001,\n",
       "  'rank': 1,\n",
       "  'language': 'Python 3',\n",
       "  'score': 10.0,\n",
       "  'code': 'import sys \\n\\nn = int(input())\\ndata = sys.stdin.readlines()[0].split()\\n\\ns = 0 \\n\\nfor i in range(0, n): \\n    s += int(data[i])\\n\\nprint (s)'},\n",
       " {'_id': ObjectId('5c722052efd8edc4bee8c955'),\n",
       "  'challenge_title': 'Simple Array Sum',\n",
       "  'challenge_difficulty': 'Easy',\n",
       "  'max_score': 10.0,\n",
       "  'success_rate': 0.9454000000000001,\n",
       "  'rank': 1,\n",
       "  'language': 'Python 3',\n",
       "  'score': 10.0,\n",
       "  'code': 'input()\\nprint(sum([int(x) for x in input().split()]))'},\n",
       " {'_id': ObjectId('5c722058efd8edc4bee8c956'),\n",
       "  'challenge_title': 'Simple Array Sum',\n",
       "  'challenge_difficulty': 'Easy',\n",
       "  'max_score': 10.0,\n",
       "  'success_rate': 0.9454000000000001,\n",
       "  'rank': 1,\n",
       "  'language': 'Python 3',\n",
       "  'score': 10.0,\n",
       "  'code': 'N=int(input())\\narray=map(int,input().split())\\nprint(sum(array))'},\n",
       " {'_id': ObjectId('5c7220caefd8edc4bee8c95c'),\n",
       "  'challenge_title': 'Compare the Triplets',\n",
       "  'challenge_difficulty': 'Easy',\n",
       "  'max_score': 10.0,\n",
       "  'success_rate': 0.9400000000000001,\n",
       "  'rank': 1,\n",
       "  'language': 'Python 3',\n",
       "  'score': 10.0,\n",
       "  'code': \"#!/bin/python3\\n\\nimport sys\\n\\n\\na0,a1,a2 = input().strip().split(' ')\\na0,a1,a2 = [int(a0),int(a1),int(a2)]\\nb0,b1,b2 = input().strip().split(' ')\\nb0,b1,b2 = [int(b0),int(b1),int(b2)]\\n\\nA = (a0>b0) + (a1>b1) + (a2>b2)\\nB = (a0<b0) + (a1<b1) + (a2<b2)\\nprint(A, B)\"},\n",
       " {'_id': ObjectId('5c7220cfefd8edc4bee8c95d'),\n",
       "  'challenge_title': 'Compare the Triplets',\n",
       "  'challenge_difficulty': 'Easy',\n",
       "  'max_score': 10.0,\n",
       "  'success_rate': 0.9400000000000001,\n",
       "  'rank': 1,\n",
       "  'language': 'Python 3',\n",
       "  'score': 10.0,\n",
       "  'code': \"#!/bin/python3\\n\\nimport sys\\n\\n\\na0,a1,a2 = input().strip().split(' ')\\na0,a1,a2 = [int(a0),int(a1),int(a2)]\\nb0,b1,b2 = input().strip().split(' ')\\nb0,b1,b2 = [int(b0),int(b1),int(b2)]\\n\\nbob = 0\\nalice = 0\\n\\nif a0 > b0:\\n    bob += 1\\nelif a0 < b0:\\n    alice += 1\\n\\nif a1 > b1:\\n    bob += 1\\nelif a1 < b1:\\n    alice += 1\\n    \\nif a2 > b2:\\n    bob += 1\\nelif a2 < b2:\\n    alice += 1\\n    \\n    \\nprint(bob, alice)\"},\n",
       " {'_id': ObjectId('5c7220d4efd8edc4bee8c95e'),\n",
       "  'challenge_title': 'Compare the Triplets',\n",
       "  'challenge_difficulty': 'Easy',\n",
       "  'max_score': 10.0,\n",
       "  'success_rate': 0.9400000000000001,\n",
       "  'rank': 1,\n",
       "  'language': 'Python 3',\n",
       "  'score': 10.0,\n",
       "  'code': 'A = [int(x) for x in input().split()]\\nB = [int(x) for x in input().split()]\\n\\nprint(sum(a > b for a, b in zip(A, B)), sum(a < b for a, b in zip(A, B)))'},\n",
       " {'_id': ObjectId('5c7220daefd8edc4bee8c95f'),\n",
       "  'challenge_title': 'Compare the Triplets',\n",
       "  'challenge_difficulty': 'Easy',\n",
       "  'max_score': 10.0,\n",
       "  'success_rate': 0.9400000000000001,\n",
       "  'rank': 1,\n",
       "  'language': 'Python 3',\n",
       "  'score': 10.0,\n",
       "  'code': \"#!/bin/python3\\n\\nimport sys\\n\\n\\na0,a1,a2 = input().strip().split(' ')\\nA = [int(a0),int(a1),int(a2)]\\nb0,b1,b2 = input().strip().split(' ')\\nB = [int(b0),int(b1),int(b2)]\\n\\nalice = 0\\nbob = 0\\n\\nfor i in range(3):\\n    if A[i] > B[i]: alice+=1\\n    if A[i] < B[i]: bob+=1\\n    if A[i] == B[i]: pass\\nprint(alice, bob)\"},\n",
       " {'_id': ObjectId('5c7220deefd8edc4bee8c960'),\n",
       "  'challenge_title': 'Compare the Triplets',\n",
       "  'challenge_difficulty': 'Easy',\n",
       "  'max_score': 10.0,\n",
       "  'success_rate': 0.9400000000000001,\n",
       "  'rank': 1,\n",
       "  'language': 'Python 3',\n",
       "  'score': 10.0,\n",
       "  'code': \"#!/bin/python3\\n\\nimport sys\\n\\n\\na0,a1,a2 = input().strip().split(' ')\\na0,a1,a2 = [int(a0),int(a1),int(a2)]\\nb0,b1,b2 = input().strip().split(' ')\\nb0,b1,b2 = [int(b0),int(b1),int(b2)]\\n\\n\\nalice = 0\\nbob = 0\\nif a0 > b0:\\n    alice += 1\\nelif b0 > a0:\\n    bob += 1\\nif a1 > b1:\\n    alice += 1\\nelif b1 > a1:\\n    bob += 1\\nif a2 > b2:\\n    alice += 1\\nelif b2 > a2:\\n    bob += 1\\nprint(alice, bob)\"}]"
      ]
     },
     "execution_count": 25,
     "metadata": {},
     "output_type": "execute_result"
    }
   ],
   "source": [
    "# See docs in python collection\n",
    "list(python_options['db_collection'].find({}))"
   ]
  }
 ],
 "metadata": {
  "kernelspec": {
   "display_name": "Python 3",
   "language": "python",
   "name": "python3"
  },
  "language_info": {
   "codemirror_mode": {
    "name": "ipython",
    "version": 3
   },
   "file_extension": ".py",
   "mimetype": "text/x-python",
   "name": "python",
   "nbconvert_exporter": "python",
   "pygments_lexer": "ipython3",
   "version": "3.6.8"
  },
  "toc": {
   "base_numbering": 1,
   "nav_menu": {},
   "number_sections": true,
   "sideBar": true,
   "skip_h1_title": false,
   "title_cell": "Table of Contents",
   "title_sidebar": "Contents",
   "toc_cell": false,
   "toc_position": {},
   "toc_section_display": true,
   "toc_window_display": false
  },
  "varInspector": {
   "cols": {
    "lenName": 16,
    "lenType": 16,
    "lenVar": 40
   },
   "kernels_config": {
    "python": {
     "delete_cmd_postfix": "",
     "delete_cmd_prefix": "del ",
     "library": "var_list.py",
     "varRefreshCmd": "print(var_dic_list())"
    },
    "r": {
     "delete_cmd_postfix": ") ",
     "delete_cmd_prefix": "rm(",
     "library": "var_list.r",
     "varRefreshCmd": "cat(var_dic_list()) "
    }
   },
   "types_to_exclude": [
    "module",
    "function",
    "builtin_function_or_method",
    "instance",
    "_Feature"
   ],
   "window_display": false
  }
 },
 "nbformat": 4,
 "nbformat_minor": 2
}
